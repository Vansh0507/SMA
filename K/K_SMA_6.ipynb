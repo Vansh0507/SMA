{
  "nbformat": 4,
  "nbformat_minor": 0,
  "metadata": {
    "colab": {
      "provenance": []
    },
    "kernelspec": {
      "name": "python3",
      "display_name": "Python 3"
    },
    "language_info": {
      "name": "python"
    }
  },
  "cells": [
    {
      "cell_type": "code",
      "source": [
        "!pip install networkx\n",
        "import networkx\n",
        "import matplotlib.pyplot as plt\n",
        "\n",
        "G=networkx.Graph()\n",
        "G.add_node(1)\n",
        "G.add_node(2)\n",
        "G.add_node(3)\n",
        "G.add_node(4)\n",
        "G.add_node(5)\n",
        "G.nodes()\n",
        "G.add_edge(1,2)\n",
        "G.add_edge(1,3)\n",
        "G.add_edge(3,2)\n",
        "G.add_edge(3,4)\n",
        "G.add_edge(4,5)\n",
        "G.edges()\n",
        "\n",
        "#from dataset\n",
        "#graph=nx.from_pandas_edgelist(df,source='from',target='to')\n",
        "#nx.number_of_nodes\n",
        "#nx.number_of_edges\n",
        "\n",
        "G=nx.gnp_random_graph(10,0.5)\n",
        "nx.draw(G)\n",
        "\n",
        "nx.draw(G,with_labels=1)\n",
        "plt.show()\n",
        "\n",
        "nx.degree(G)\n",
        "\n",
        "#influential nodes\n",
        "\n",
        "nx.degree_centrality(G)\n",
        "\n",
        "M_influential=nx.degree_centrality(G)\n",
        "for w in sorted(M_influential,key=M_influential.get,reverse=True):\n",
        "  print(w,M_influential[w])\n",
        "\n",
        "#identify most imp connextion\n",
        "nx.eigenvector_centrality(G)\n",
        "imp_link=nx.eigenvector_centrality(G)\n",
        "for w in sorted(imp_link,key=imp_link.get,reverse=True):\n",
        "  print(w,imp_link[w])\n",
        "\n",
        "nx.betweenness_centrality(G)\n",
        "bet=nx.betweenness_centrality(G)\n",
        "for w in sorted(bet,key=bet.get,reverse=True):\n",
        "  print(w,bet[w])\n",
        "\n",
        "nx.clustering(G)\n",
        "nx.has_bridges(G)\n",
        "bridges=list(nx.bridges(G))\n",
        "len(bridges)\n",
        "lb=list(nx.local_bridges(G,with_span=False))\n",
        "len(lb)\n",
        "\n",
        "pos = nx.spring_layout(G)\n",
        "plt.figure(figsize=(10,8))\n",
        "nx.draw_networkx(G,pos=pos,node_size=10,with_labels=False,width=0.15)\n",
        "nx.draw_networkx_edges(G,pos,edgelist=lb,width=0.5,edge_color='green')\n",
        "nx.draw_networkx_edges(G,pos,edgelist=bridges,width=0.5,edge_color='blue')\n",
        "plt.axis('off')"
      ],
      "metadata": {
        "id": "ykLRkUvUxyaN"
      },
      "execution_count": null,
      "outputs": []
    },
    {
      "cell_type": "code",
      "execution_count": null,
      "metadata": {
        "colab": {
          "base_uri": "https://localhost:8080/"
        },
        "id": "vUPZgBeJt7Du",
        "outputId": "ba14fc0f-7735-4139-8fa0-b7326d7bed16"
      },
      "outputs": [
        {
          "output_type": "stream",
          "name": "stdout",
          "text": [
            "Requirement already satisfied: networkx in /usr/local/lib/python3.10/dist-packages (3.2.1)\n"
          ]
        }
      ],
      "source": [
        "!pip install networkx"
      ]
    },
    {
      "cell_type": "code",
      "source": [
        "import networkx"
      ],
      "metadata": {
        "id": "fMB2hwvp0LmP"
      },
      "execution_count": null,
      "outputs": []
    },
    {
      "cell_type": "code",
      "source": [
        "G=networkx.Graph()"
      ],
      "metadata": {
        "id": "gfYyydbh0L8B"
      },
      "execution_count": null,
      "outputs": []
    },
    {
      "cell_type": "code",
      "source": [
        "G.add_node(1)\n",
        "G.add_node(2)\n",
        "G.add_node(3)\n",
        "G.add_node(4)\n",
        "G.add_node(5)\n",
        "G.nodes()"
      ],
      "metadata": {
        "colab": {
          "base_uri": "https://localhost:8080/"
        },
        "id": "N8FihIF60Meo",
        "outputId": "b6830046-7270-49e9-b972-5ec2f32f174e"
      },
      "execution_count": null,
      "outputs": [
        {
          "output_type": "execute_result",
          "data": {
            "text/plain": [
              "NodeView((1, 2, 3, 4, 5))"
            ]
          },
          "metadata": {},
          "execution_count": 5
        }
      ]
    },
    {
      "cell_type": "code",
      "source": [
        "G.add_edge(1,2)\n",
        "G.add_edge(1,3)\n",
        "G.add_edge(3,2)\n",
        "G.add_edge(3,4)\n",
        "G.add_edge(4,5)\n",
        "G.edges()"
      ],
      "metadata": {
        "colab": {
          "base_uri": "https://localhost:8080/"
        },
        "id": "Kawhydhq0NIf",
        "outputId": "3df9f31d-a6c6-4cb3-b219-48ec6b458374"
      },
      "execution_count": null,
      "outputs": [
        {
          "output_type": "execute_result",
          "data": {
            "text/plain": [
              "EdgeView([(1, 2), (1, 3), (2, 3), (3, 4), (4, 5)])"
            ]
          },
          "metadata": {},
          "execution_count": 7
        }
      ]
    },
    {
      "cell_type": "code",
      "source": [
        "import networkx as nx"
      ],
      "metadata": {
        "id": "nQi9UmBQ0l5M"
      },
      "execution_count": null,
      "outputs": []
    },
    {
      "cell_type": "code",
      "source": [
        "G=nx.Graph()\n",
        "G.nodes()\n",
        "G.edges()"
      ],
      "metadata": {
        "colab": {
          "base_uri": "https://localhost:8080/"
        },
        "id": "F6RP-iAS0lo3",
        "outputId": "05d18017-49f6-444a-9076-6b8235318bb9"
      },
      "execution_count": null,
      "outputs": [
        {
          "output_type": "execute_result",
          "data": {
            "text/plain": [
              "EdgeView([])"
            ]
          },
          "metadata": {},
          "execution_count": 9
        }
      ]
    },
    {
      "cell_type": "code",
      "source": [
        "import matplotlib.pyplot as plt\n"
      ],
      "metadata": {
        "id": "smGcytDi1JX8"
      },
      "execution_count": null,
      "outputs": []
    },
    {
      "cell_type": "code",
      "source": [
        "nx.draw(G)\n",
        "plt.show()"
      ],
      "metadata": {
        "id": "PFhUEZUu1JMp"
      },
      "execution_count": null,
      "outputs": []
    },
    {
      "cell_type": "code",
      "source": [
        "nx.draw(G,with_labels=1)\n",
        "plt.show()"
      ],
      "metadata": {
        "id": "pK-1L7cv1JAS"
      },
      "execution_count": null,
      "outputs": []
    },
    {
      "cell_type": "code",
      "source": [
        "G=nx.gnp_random_graph(10,0.5)\n",
        "nx.draw(G)"
      ],
      "metadata": {
        "colab": {
          "base_uri": "https://localhost:8080/",
          "height": 516
        },
        "id": "x_dqDZwo1Ivt",
        "outputId": "4c98dcc3-e373-41b4-ad5d-1bf184a25d65"
      },
      "execution_count": null,
      "outputs": [
        {
          "output_type": "display_data",
          "data": {
            "text/plain": [
              "<Figure size 640x480 with 1 Axes>"
            ],
            "image/png": "[encoded data removed]"
          },
          "metadata": {}
        }
      ]
    },
    {
      "cell_type": "code",
      "source": [
        "nx.draw(G,with_labels=1)\n",
        "plt.show()"
      ],
      "metadata": {
        "colab": {
          "base_uri": "https://localhost:8080/",
          "height": 516
        },
        "id": "lIsuw8SP3WjR",
        "outputId": "f9ea9b57-2194-4ab7-bcfd-5daf31f0e993"
      },
      "execution_count": null,
      "outputs": [
        {
          "output_type": "display_data",
          "data": {
            "text/plain": [
              "<Figure size 640x480 with 1 Axes>"
            ],
            "image/png": "[encoded data removed]"
          },
          "metadata": {}
        }
      ]
    },
    {
      "cell_type": "code",
      "source": [
        "nx.degree(G)"
      ],
      "metadata": {
        "colab": {
          "base_uri": "https://localhost:8080/"
        },
        "id": "0C5kh9-K3WXk",
        "outputId": "dcf58289-75ce-4f02-dd10-23e34dd692c3"
      },
      "execution_count": null,
      "outputs": [
        {
          "output_type": "execute_result",
          "data": {
            "text/plain": [
              "DegreeView({0: 5, 1: 1, 2: 4, 3: 3, 4: 5, 5: 5, 6: 5, 7: 4, 8: 3, 9: 5})"
            ]
          },
          "metadata": {},
          "execution_count": 16
        }
      ]
    },
    {
      "cell_type": "code",
      "source": [
        "nx.degree_centrality(G)"
      ],
      "metadata": {
        "colab": {
          "base_uri": "https://localhost:8080/"
        },
        "id": "LLGH7Woi3U9l",
        "outputId": "b452b17e-6cee-4ae8-f91a-3695b2845ebd"
      },
      "execution_count": null,
      "outputs": [
        {
          "output_type": "execute_result",
          "data": {
            "text/plain": [
              "{0: 0.5555555555555556,\n",
              " 1: 0.1111111111111111,\n",
              " 2: 0.4444444444444444,\n",
              " 3: 0.3333333333333333,\n",
              " 4: 0.5555555555555556,\n",
              " 5: 0.5555555555555556,\n",
              " 6: 0.5555555555555556,\n",
              " 7: 0.4444444444444444,\n",
              " 8: 0.3333333333333333,\n",
              " 9: 0.5555555555555556}"
            ]
          },
          "metadata": {},
          "execution_count": 17
        }
      ]
    },
    {
      "cell_type": "markdown",
      "source": [
        "Identify most influential nodes"
      ],
      "metadata": {
        "id": "WYkkMtap33vZ"
      }
    },
    {
      "cell_type": "code",
      "source": [
        "M_influential=nx.degree_centrality(G)"
      ],
      "metadata": {
        "id": "yYjps_hT3tBR"
      },
      "execution_count": null,
      "outputs": []
    },
    {
      "cell_type": "code",
      "source": [
        "for w in sorted(M_influential,key=M_influential.get,reverse=True):\n",
        "  print(w,M_influential[w])"
      ],
      "metadata": {
        "colab": {
          "base_uri": "https://localhost:8080/"
        },
        "id": "QF-gqeDg3s0z",
        "outputId": "5ef695b4-0b1f-407c-9d02-7ac5278bc1f0"
      },
      "execution_count": null,
      "outputs": [
        {
          "output_type": "stream",
          "name": "stdout",
          "text": [
            "0 0.5555555555555556\n",
            "4 0.5555555555555556\n",
            "5 0.5555555555555556\n",
            "6 0.5555555555555556\n",
            "9 0.5555555555555556\n",
            "2 0.4444444444444444\n",
            "7 0.4444444444444444\n",
            "3 0.3333333333333333\n",
            "8 0.3333333333333333\n",
            "1 0.1111111111111111\n"
          ]
        }
      ]
    },
    {
      "cell_type": "markdown",
      "source": [
        "Identify Most important connection"
      ],
      "metadata": {
        "id": "lb03eEL-4dWz"
      }
    },
    {
      "cell_type": "code",
      "source": [
        "nx.eigenvector_centrality(G)"
      ],
      "metadata": {
        "colab": {
          "base_uri": "https://localhost:8080/"
        },
        "id": "X5a8lQmc49nR",
        "outputId": "67745803-835f-41b6-8357-7b9e2828176f"
      },
      "execution_count": null,
      "outputs": [
        {
          "output_type": "execute_result",
          "data": {
            "text/plain": [
              "{0: 0.3729020313780034,\n",
              " 1: 0.03829171643023747,\n",
              " 2: 0.3319444366061466,\n",
              " 3: 0.23864389945011627,\n",
              " 4: 0.40072193023183555,\n",
              " 5: 0.3683172938348139,\n",
              " 6: 0.3842205140208801,\n",
              " 7: 0.3065526284064513,\n",
              " 8: 0.17066939242052168,\n",
              " 9: 0.3540849425143122}"
            ]
          },
          "metadata": {},
          "execution_count": 20
        }
      ]
    },
    {
      "cell_type": "code",
      "source": [
        "imp_link=nx.eigenvector_centrality(G)\n",
        "for w in sorted(imp_link,key=imp_link.get,reverse=True):\n",
        "  print(w,imp_link[w])"
      ],
      "metadata": {
        "colab": {
          "base_uri": "https://localhost:8080/"
        },
        "id": "v765mXYZ49dm",
        "outputId": "2ad6755a-ebd5-45ef-b0c2-54f931d8e73e"
      },
      "execution_count": null,
      "outputs": [
        {
          "output_type": "stream",
          "name": "stdout",
          "text": [
            "4 0.40072193023183555\n",
            "6 0.3842205140208801\n",
            "0 0.3729020313780034\n",
            "5 0.3683172938348139\n",
            "9 0.3540849425143122\n",
            "2 0.3319444366061466\n",
            "7 0.3065526284064513\n",
            "3 0.23864389945011627\n",
            "8 0.17066939242052168\n",
            "1 0.03829171643023747\n"
          ]
        }
      ]
    },
    {
      "cell_type": "markdown",
      "source": [
        "betweenness_centrality"
      ],
      "metadata": {
        "id": "lCTw-aOG5iRl"
      }
    },
    {
      "cell_type": "code",
      "source": [
        "nx.betweenness_centrality(G)"
      ],
      "metadata": {
        "colab": {
          "base_uri": "https://localhost:8080/"
        },
        "id": "dMDwwkVx49SH",
        "outputId": "1087616f-e76b-4e9e-e7a4-636ec4e52714"
      },
      "execution_count": null,
      "outputs": [
        {
          "output_type": "execute_result",
          "data": {
            "text/plain": [
              "{0: 0.053240740740740734,\n",
              " 1: 0.0,\n",
              " 2: 0.04629629629629629,\n",
              " 3: 0.009259259259259259,\n",
              " 4: 0.06944444444444445,\n",
              " 5: 0.18287037037037038,\n",
              " 6: 0.10416666666666664,\n",
              " 7: 0.08333333333333333,\n",
              " 8: 0.2222222222222222,\n",
              " 9: 0.20138888888888887}"
            ]
          },
          "metadata": {},
          "execution_count": 24
        }
      ]
    },
    {
      "cell_type": "code",
      "source": [
        "bet=nx.betweenness_centrality(G)\n",
        "for w in sorted(bet,key=bet.get,reverse=True):\n",
        "  print(w,bet[w])"
      ],
      "metadata": {
        "colab": {
          "base_uri": "https://localhost:8080/"
        },
        "id": "jnz6LiED3r-f",
        "outputId": "7d8da847-8933-4dcc-a6e0-f6ef9c5af67a"
      },
      "execution_count": null,
      "outputs": [
        {
          "output_type": "stream",
          "name": "stdout",
          "text": [
            "8 0.2222222222222222\n",
            "9 0.20138888888888887\n",
            "5 0.18287037037037038\n",
            "6 0.10416666666666664\n",
            "7 0.08333333333333333\n",
            "4 0.06944444444444445\n",
            "0 0.053240740740740734\n",
            "2 0.04629629629629629\n",
            "3 0.009259259259259259\n",
            "1 0.0\n"
          ]
        }
      ]
    },
    {
      "cell_type": "code",
      "source": [
        "nx.clustering(G)"
      ],
      "metadata": {
        "colab": {
          "base_uri": "https://localhost:8080/"
        },
        "id": "SEawjeZ96Jl1",
        "outputId": "0e930f41-86a3-45b9-ebba-498b2579ae42"
      },
      "execution_count": null,
      "outputs": [
        {
          "output_type": "execute_result",
          "data": {
            "text/plain": [
              "{0: 0.5,\n",
              " 1: 0,\n",
              " 2: 0.5,\n",
              " 3: 0.6666666666666666,\n",
              " 4: 0.5,\n",
              " 5: 0.5,\n",
              " 6: 0.5,\n",
              " 7: 0.5,\n",
              " 8: 0.3333333333333333,\n",
              " 9: 0.4}"
            ]
          },
          "metadata": {},
          "execution_count": 26
        }
      ]
    },
    {
      "cell_type": "code",
      "source": [
        "nx.has_bridges(G)"
      ],
      "metadata": {
        "colab": {
          "base_uri": "https://localhost:8080/"
        },
        "id": "uFfGRfAd6TK1",
        "outputId": "707aa191-a834-43f8-99d7-d9448d1aa507"
      },
      "execution_count": null,
      "outputs": [
        {
          "output_type": "execute_result",
          "data": {
            "text/plain": [
              "True"
            ]
          },
          "metadata": {},
          "execution_count": 27
        }
      ]
    },
    {
      "cell_type": "code",
      "source": [
        "bridges=list(nx.bridges(G))\n",
        "len(bridges)"
      ],
      "metadata": {
        "colab": {
          "base_uri": "https://localhost:8080/"
        },
        "id": "AInwBT6_7LII",
        "outputId": "33a4bf74-c568-4a6f-bea8-e48e0285899d"
      },
      "execution_count": null,
      "outputs": [
        {
          "output_type": "execute_result",
          "data": {
            "text/plain": [
              "1"
            ]
          },
          "metadata": {},
          "execution_count": 29
        }
      ]
    },
    {
      "cell_type": "code",
      "source": [
        "lb=list(nx.local_bridges(G,with_span=False))\n",
        "len(lb)"
      ],
      "metadata": {
        "colab": {
          "base_uri": "https://localhost:8080/"
        },
        "id": "qYjsuhZc7K8r",
        "outputId": "b0560fee-5579-4e08-8a17-bc826cb52ad7"
      },
      "execution_count": null,
      "outputs": [
        {
          "output_type": "execute_result",
          "data": {
            "text/plain": [
              "1"
            ]
          },
          "metadata": {},
          "execution_count": 30
        }
      ]
    },
    {
      "cell_type": "code",
      "source": [
        "pos = nx.spring_layout(G)\n"
      ],
      "metadata": {
        "id": "Eop7xuZT9T8c"
      },
      "execution_count": null,
      "outputs": []
    },
    {
      "cell_type": "code",
      "source": [
        "plt.figure(figsize=(10,8))\n",
        "nx.draw_networkx(G,pos=pos,node_size=10,with_labels=False,width=0.15)\n",
        "nx.draw_networkx_edges(G,pos,edgelist=lb,width=0.5,edge_color='green')\n",
        "nx.draw_networkx_edges(G,pos,edgelist=bridges,width=0.5,edge_color='blue')\n",
        "plt.axis('off')"
      ],
      "metadata": {
        "colab": {
          "base_uri": "https://localhost:8080/",
          "height": 722
        },
        "id": "ag6wkp8C7ulX",
        "outputId": "6ca73299-1fb4-474d-ac98-039a05e0beed"
      },
      "execution_count": null,
      "outputs": [
        {
          "output_type": "execute_result",
          "data": {
            "text/plain": [
              "(-1.1849649813299028,\n",
              " 0.9465362320908829,\n",
              " -0.5508045661437312,\n",
              " 0.9793627996412775)"
            ]
          },
          "metadata": {},
          "execution_count": 34
        },
        {
          "output_type": "display_data",
          "data": {
            "text/plain": [
              "<Figure size 1000x800 with 1 Axes>"
            ],
            "image/png": "[encoded data removed]"
          },
          "metadata": {}
        }
      ]
    }
  ]
}